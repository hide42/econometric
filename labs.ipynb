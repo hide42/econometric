{
 "cells": [
  {
   "cell_type": "code",
   "execution_count": 40,
   "metadata": {},
   "outputs": [
    {
     "name": "stdout",
     "output_type": "stream",
     "text": [
      "Hypotesis  2  accepted  (0.9837920665740967, 0.07518772780895233)\n"
     ]
    }
   ],
   "source": [
    "#1 Задание\n",
    "from sklearn import datasets\n",
    "from scipy import stats\n",
    "iris = datasets.load_iris().data\n",
    "for i in range(1,5):\n",
    "    test = iris[::,i-1:i:];\n",
    "    result = stats.shapiro(test)\n",
    "    if(result[1]>0.05):\n",
    "        print 'Hypotesis ',i,' accepted ',result"
   ]
  },
  {
   "cell_type": "code",
   "execution_count": 36,
   "metadata": {},
   "outputs": [
    {
     "name": "stdout",
     "output_type": "stream",
     "text": [
      "single  distribution and p_value =  0.005304070449288422  on i= 15\n",
      "single  distribution and p_value =  0.014428227026410239  on i= 20\n",
      "single  distribution and p_value =  0.026709183504449206  on i= 25\n",
      "non single  distribution and p_value =  0.16675112018536087  on i= 30\n"
     ]
    },
    {
     "name": "stderr",
     "output_type": "stream",
     "text": [
      "C:\\ProgramData\\Anaconda2\\lib\\site-packages\\ipykernel_launcher.py:10: DeprecationWarning: In future, it will be an error for 'np.bool_' scalars to be interpreted as an index\n",
      "  # Remove the CWD from sys.path while we load stuff.\n"
     ]
    }
   ],
   "source": [
    "#2 Задание\n",
    "import numpy as np\n",
    "from scipy import stats\n",
    "from scipy.stats import ks_2samp\n",
    "\n",
    "for i in range(15,31,5):\n",
    "    norm = stats.norm.rvs(loc=i, scale=i**0.5, size=200)\n",
    "    chi2 =np.random.chisquare(df=i,size=200)\n",
    "    result = stats.ks_2samp(norm,chi2)\n",
    "    print_res=[\"single\",\"non single\"][result[1]>0.05]\n",
    "    print print_res,' distribution and p_value = ',result[1],' on i=',i\n"
   ]
  },
  {
   "cell_type": "code",
   "execution_count": 26,
   "metadata": {},
   "outputs": [],
   "source": [
    "#3 Задание\n",
    "import pandas as pd\n",
    "import numpy as np\n",
    "from math import log10\n",
    "import matplotlib.pyplot as plt\n",
    "\n",
    "%matplotlib inline\n",
    "\n",
    "df = pd.read_csv('allcountries.txt', sep='\\t',na_values='str')\n",
    "df = df.dropna()\n",
    "tuples = [tuple(x) for x in df.values]\n",
    "arr = np.ones((len(df),2),dtype = float);\n",
    "for i in range(len(tuples)):\n",
    "    arr[i][0]=log10(log10(tuples[i][1]))#population\n",
    "    arr[i][1]=log10(log10(tuples[i][2]))#area\n",
    "\n",
    "#plt.plot(arr[::,1:2:],arr[::,:1:],\"ro\")\n"
   ]
  },
  {
   "cell_type": "code",
   "execution_count": 25,
   "metadata": {},
   "outputs": [
    {
     "name": "stdout",
     "output_type": "stream",
     "text": [
      "single  distribution and p_value =  1.616451547376388e-29\n"
     ]
    },
    {
     "name": "stderr",
     "output_type": "stream",
     "text": [
      "C:\\ProgramData\\Anaconda2\\lib\\site-packages\\ipykernel_launcher.py:12: DeprecationWarning: In future, it will be an error for 'np.bool_' scalars to be interpreted as an index\n",
      "  if sys.path[0] == '':\n"
     ]
    }
   ],
   "source": [
    "import statsmodels.api as sm\n",
    "from scipy.stats import ks_2samp\n",
    "X = arr[::,1:2:];\n",
    "#plt.plot(X,arr[::,:1:],\"ro\")\n",
    "lmRegModel = sm.OLS(sm.add_constant(X),arr[::,:1:])\n",
    "result = lmRegModel.fit()\n",
    "test_arr = np.random.random(len(arr))\n",
    "y_arr = result.predict(test_arr)[::,1:2:]\n",
    "result = stats.ks_2samp(X[:, 0],y_arr[:, 0])\n",
    "#plt.hist(X[:, 0])\n",
    "#plt.hist(y_arr[:, 0])\n",
    "print_res=[\"single\",\"non single\"][result[1]>0.05]\n",
    "print print_res,' distribution and p_value = ',result[1]"
   ]
  },
  {
   "cell_type": "code",
   "execution_count": 22,
   "metadata": {},
   "outputs": [
    {
     "data": {
      "image/png": "[encoded data removed]",
      "text/plain": [
       "<matplotlib.figure.Figure at 0xb9d8198>"
      ]
     },
     "metadata": {},
     "output_type": "display_data"
    },
    {
     "name": "stdout",
     "output_type": "stream",
     "text": [
      "Hair color does not depend  on eye color\n"
     ]
    },
    {
     "name": "stderr",
     "output_type": "stream",
     "text": [
      "C:\\ProgramData\\Anaconda2\\lib\\site-packages\\ipykernel_launcher.py:31: DeprecationWarning: In future, it will be an error for 'np.bool_' scalars to be interpreted as an index\n"
     ]
    },
    {
     "data": {
      "text/plain": [
       "7.014013157014532e-19"
      ]
     },
     "execution_count": 22,
     "metadata": {},
     "output_type": "execute_result"
    }
   ],
   "source": [
    "#4 Задание\n",
    "import numpy as np\n",
    "import xarray\n",
    "from scipy import stats\n",
    "%matplotlib inline\n",
    "#https://github.com/pydata/xarray/issues/779\n",
    "# data :\n",
    "data = np.array([32, 53, 10, 3, 11, 50, 10, 30, 10, 25, 7, 5, 3, 15, 7, 8,\n",
    "                 36, 66, 16, 4,  9, 34,  7, 64,  5, 29, 7, 5, 2, 14, 7, 8])\n",
    "\n",
    "_dim = (4, 4, 2)\n",
    "data = data.reshape(_dim[::-1])\n",
    "\n",
    "_dims = ['Hair', 'Eye', 'Sex']\n",
    "_coords = [['Black', 'Brown', 'Red', 'Blond'], \n",
    "           ['Brown', 'Blue', 'Hazel', 'Green'],\n",
    "           ['Male', 'Female']]\n",
    "\n",
    "data = xarray.DataArray(\n",
    "    data, dims=_dims[::-1],\n",
    "    coords=_coords[::-1], name='Number'\n",
    ")\n",
    "\n",
    "#assert int(data.loc['Female', 'Green', 'Black']) == 2\n",
    "#test\n",
    "import matplotlib.pyplot as plt\n",
    "from statsmodels.graphics.mosaicplot import mosaic\n",
    "mosaic(data)\n",
    "plt.show()\n",
    "#stats.chisquare(data.loc['Female'])\n",
    "print_res=[\"depends\",\"does not depend\"][stats.chi2_contingency(data.loc['Female'])[1]<0.05]\n",
    "print 'Hair color',print_res,' on eye color'\n",
    "#p-value ,[0]-test [2]-df\n",
    "stats.chi2_contingency(data.loc['Female'])[1]"
   ]
  },
  {
   "cell_type": "code",
   "execution_count": 19,
   "metadata": {},
   "outputs": [
    {
     "name": "stdout",
     "output_type": "stream",
     "text": [
      "p-value -  0.028629482832245753 The read speed  does not depend  on the reading technique\n",
      "alternative  0.9856852585838771\n"
     ]
    },
    {
     "name": "stderr",
     "output_type": "stream",
     "text": [
      "C:\\ProgramData\\Anaconda2\\lib\\site-packages\\ipykernel_launcher.py:16: DeprecationWarning: In future, it will be an error for 'np.bool_' scalars to be interpreted as an index\n",
      "  app.launch_new_instance()\n"
     ]
    }
   ],
   "source": [
    "#5 Задание\n",
    "import pandas as pd\n",
    "from scipy import stats\n",
    "import numpy as np\n",
    "\n",
    "df = pd.read_csv('readingspeed.txt', sep=' ')\n",
    "DRA=[];\n",
    "SC=[];\n",
    "for i in df.values:\n",
    "    if(i[1]=='DRA'):\n",
    "        DRA.append(i[0])\n",
    "    else:\n",
    "        SC.append(i[0])\n",
    "\n",
    "result = stats.ttest_ind(DRA,SC)\n",
    "print_res=[\"does not depend\",\"depends\"][result[1]>0.05]\n",
    "print 'p-value - ',result[1],'The read speed ',print_res,' on the reading technique'\n",
    "print 'alternative ',1-result[1]/2\n"
   ]
  },
  {
   "cell_type": "code",
   "execution_count": null,
   "metadata": {},
   "outputs": [],
   "source": []
  }
 ],
 "metadata": {
  "kernelspec": {
   "display_name": "Python 2",
   "language": "python",
   "name": "python2"
  },
  "language_info": {
   "codemirror_mode": {
    "name": "ipython",
    "version": 2
   },
   "file_extension": ".py",
   "mimetype": "text/x-python",
   "name": "python",
   "nbconvert_exporter": "python",
   "pygments_lexer": "ipython2",
   "version": "2.7.14"
  }
 },
 "nbformat": 4,
 "nbformat_minor": 2
}
